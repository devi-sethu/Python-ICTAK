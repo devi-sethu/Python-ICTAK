{
 "cells": [
  {
   "cell_type": "markdown",
   "id": "c6002e11",
   "metadata": {},
   "source": [
    "# Qn:1"
   ]
  },
  {
   "cell_type": "code",
   "execution_count": 1,
   "id": "849b286b",
   "metadata": {},
   "outputs": [
    {
     "name": "stdout",
     "output_type": "stream",
     "text": [
      "Enter the name Anisha\n",
      "Enter the roll no: 21\n",
      "Enter the mark 78\n"
     ]
    }
   ],
   "source": [
    "name =  input(\"Enter the name \")\n",
    "RollNo = input(\"Enter the roll no: \")\n",
    "mark=input(\"Enter the mark \")"
   ]
  },
  {
   "cell_type": "markdown",
   "id": "45ee0494",
   "metadata": {},
   "source": [
    "# Qn:2"
   ]
  },
  {
   "cell_type": "code",
   "execution_count": 2,
   "id": "8954a431",
   "metadata": {},
   "outputs": [
    {
     "name": "stdout",
     "output_type": "stream",
     "text": [
      "Temperature in Celsius = 34\n",
      "34.0  Celsius is  93.2  Farenheit\n"
     ]
    }
   ],
   "source": [
    "c=float(input(\"Temperature in Celsius = \"))\n",
    "f=(c*9/5)+32\n",
    "print(c,\" Celsius is \",f,\" Farenheit\")"
   ]
  },
  {
   "cell_type": "code",
   "execution_count": 4,
   "id": "96c77c5f",
   "metadata": {},
   "outputs": [
    {
     "name": "stdout",
     "output_type": "stream",
     "text": [
      "Temperature in Farenheit =93.4\n",
      "93.4  Farenheit is  34.111111111111114  Celsius\n"
     ]
    }
   ],
   "source": [
    "farenheit=float(input(\"Temperature in Farenheit =\"))\n",
    "celsius=((farenheit - 32) * 5/9)\n",
    "print(farenheit,\" Farenheit is \",celsius,\" Celsius\")"
   ]
  },
  {
   "cell_type": "markdown",
   "id": "81afd866",
   "metadata": {},
   "source": [
    "# Qn:3"
   ]
  },
  {
   "cell_type": "code",
   "execution_count": 5,
   "id": "4fd7f5c2",
   "metadata": {},
   "outputs": [
    {
     "name": "stdout",
     "output_type": "stream",
     "text": [
      "Product of a and b is  3575\n"
     ]
    }
   ],
   "source": [
    "a=55\n",
    "b=65\n",
    "print(\"Product of a and b is \",a*b)"
   ]
  },
  {
   "cell_type": "markdown",
   "id": "830812bc",
   "metadata": {},
   "source": [
    "# Qn:4"
   ]
  },
  {
   "cell_type": "code",
   "execution_count": 4,
   "id": "b5868d69",
   "metadata": {},
   "outputs": [
    {
     "name": "stdout",
     "output_type": "stream",
     "text": [
      "String to be displayed is Learn**Python** by Developing a **Website**\n",
      "Learn**Python** by Developing a **Website**\n"
     ]
    }
   ],
   "source": [
    "sentence=input(\"String to be displayed is \")\n",
    "print(sentence)"
   ]
  },
  {
   "cell_type": "markdown",
   "id": "f9949b9e",
   "metadata": {},
   "source": [
    "# Qn:5"
   ]
  },
  {
   "cell_type": "code",
   "execution_count": 3,
   "id": "af271392",
   "metadata": {},
   "outputs": [
    {
     "name": "stdout",
     "output_type": "stream",
     "text": [
      "Radius of the circle is 7\n",
      "Area of the circle is  153.93804002589985\n"
     ]
    }
   ],
   "source": [
    "r=float(input(\"Radius of the circle is \"))\n",
    "import math\n",
    "area=(r*r)*math.pi\n",
    "print(\"Area of the circle is \",area)"
   ]
  },
  {
   "cell_type": "markdown",
   "id": "fc634930",
   "metadata": {},
   "source": [
    "# Qn:6"
   ]
  },
  {
   "cell_type": "code",
   "execution_count": 4,
   "id": "6fc032c8",
   "metadata": {},
   "outputs": [],
   "source": [
    "list1=[21,56,73,12,1,34,45,56]"
   ]
  },
  {
   "cell_type": "code",
   "execution_count": 5,
   "id": "857b29ab",
   "metadata": {},
   "outputs": [],
   "source": [
    "list1.insert(3,88)"
   ]
  },
  {
   "cell_type": "code",
   "execution_count": 6,
   "id": "2c763ca3",
   "metadata": {},
   "outputs": [
    {
     "data": {
      "text/plain": [
       "[21, 56, 73, 88, 12, 1, 34, 45, 56]"
      ]
     },
     "execution_count": 6,
     "metadata": {},
     "output_type": "execute_result"
    }
   ],
   "source": [
    "list1"
   ]
  },
  {
   "cell_type": "markdown",
   "id": "ef4a900c",
   "metadata": {},
   "source": [
    "# Qn:7"
   ]
  },
  {
   "cell_type": "code",
   "execution_count": 7,
   "id": "2d7bb0ea",
   "metadata": {},
   "outputs": [
    {
     "name": "stdout",
     "output_type": "stream",
     "text": [
      "{'name': 'John', 'age': 5, 'salary': 8000, 'location': 'New York'}\n"
     ]
    }
   ],
   "source": [
    "dict1 = { \"name\": \"John\", \"age\":5, \"salary\": 8000, \"city\": \"New York\"}\n",
    "dict1['location'] = dict1['city']\n",
    "del dict1['city']\n",
    "\n",
    "print(dict1)"
   ]
  },
  {
   "cell_type": "markdown",
   "id": "dec0d09f",
   "metadata": {},
   "source": [
    "# Qn:8"
   ]
  },
  {
   "cell_type": "code",
   "execution_count": 8,
   "id": "5751ca3a",
   "metadata": {},
   "outputs": [],
   "source": [
    "dict2 = {\n",
    "'emp1': {'name': 'John', 'salary': 7500},\n",
    "'emp2': {'name': 'Emma', 'salary': 8000},\n",
    "'emp3': {'name': 'Brad', 'salary': 500}\n",
    "}\n"
   ]
  },
  {
   "cell_type": "code",
   "execution_count": 11,
   "id": "fdd4b804",
   "metadata": {},
   "outputs": [],
   "source": [
    "dict2['emp3']['salary']=8500"
   ]
  },
  {
   "cell_type": "code",
   "execution_count": 12,
   "id": "30b364d7",
   "metadata": {},
   "outputs": [
    {
     "data": {
      "text/plain": [
       "{'emp1': {'name': 'John', 'salary': 7500},\n",
       " 'emp2': {'name': 'Emma', 'salary': 8000},\n",
       " 'emp3': {'name': 'Brad', 'salary': 8500}}"
      ]
     },
     "execution_count": 12,
     "metadata": {},
     "output_type": "execute_result"
    }
   ],
   "source": [
    "dict2"
   ]
  },
  {
   "cell_type": "markdown",
   "id": "741596f5",
   "metadata": {},
   "source": [
    "# Qn:9"
   ]
  },
  {
   "cell_type": "code",
   "execution_count": 1,
   "id": "8a965f34",
   "metadata": {},
   "outputs": [
    {
     "data": {
      "text/plain": [
       "(43, 54)"
      ]
     },
     "execution_count": 1,
     "metadata": {},
     "output_type": "execute_result"
    }
   ],
   "source": [
    "tuple1 = (10, 20, 43, 54, 56, 68)\n",
    "tuple2=tuple1[2:4]\n",
    "tuple2"
   ]
  },
  {
   "cell_type": "code",
   "execution_count": 2,
   "id": "e188cc38",
   "metadata": {},
   "outputs": [
    {
     "data": {
      "text/plain": [
       "tuple"
      ]
     },
     "execution_count": 2,
     "metadata": {},
     "output_type": "execute_result"
    }
   ],
   "source": [
    "type(tuple2)"
   ]
  },
  {
   "cell_type": "markdown",
   "id": "6dd4475f",
   "metadata": {},
   "source": [
    "# Qn:10"
   ]
  },
  {
   "cell_type": "code",
   "execution_count": 3,
   "id": "f68bbf10",
   "metadata": {},
   "outputs": [
    {
     "data": {
      "text/plain": [
       "3"
      ]
     },
     "execution_count": 3,
     "metadata": {},
     "output_type": "execute_result"
    }
   ],
   "source": [
    "tuple3 = (50, 10, 60, 70, 50,83,567,50,81)\n",
    "tuple3.count(50)"
   ]
  },
  {
   "cell_type": "code",
   "execution_count": null,
   "id": "80590e98",
   "metadata": {},
   "outputs": [],
   "source": []
  }
 ],
 "metadata": {
  "kernelspec": {
   "display_name": "Python 3 (ipykernel)",
   "language": "python",
   "name": "python3"
  },
  "language_info": {
   "codemirror_mode": {
    "name": "ipython",
    "version": 3
   },
   "file_extension": ".py",
   "mimetype": "text/x-python",
   "name": "python",
   "nbconvert_exporter": "python",
   "pygments_lexer": "ipython3",
   "version": "3.9.13"
  }
 },
 "nbformat": 4,
 "nbformat_minor": 5
}
