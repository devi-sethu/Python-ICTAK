{
 "cells": [
  {
   "cell_type": "markdown",
   "id": "d6c8d34b",
   "metadata": {},
   "source": [
    " Qn:1 1. A school has following rules for grading system:\n",
    "a. Below 25 - F\n",
    "b. 25 to 45 - E\n",
    "c. 45 to 50 - D\n",
    "d. 50 to 60 - C\n",
    "e. 60 to 80 - B\n",
    "f. Above 80 - A\n",
    "Ask user to enter marks and print the corresponding grade."
   ]
  },
  {
   "cell_type": "code",
   "execution_count": 1,
   "id": "bd63a58c",
   "metadata": {},
   "outputs": [
    {
     "name": "stdout",
     "output_type": "stream",
     "text": [
      "Enter the mark 56\n",
      "Grade is C\n"
     ]
    }
   ],
   "source": [
    "x=int(input('Enter the mark '))\n",
    "if x<25:\n",
    "    print('Grade is F')\n",
    "elif x>=25 and x<45:\n",
    "    print('Grade is E')\n",
    "elif x>=45 and x<50:\n",
    "    print('Grade is D')\n",
    "elif x>=50 and x<60:\n",
    "    print('Grade is C')\n",
    "elif x>=60 and x<80:\n",
    "    print('Grade is B')\n",
    "else :\n",
    "    print('Grade is A')\n"
   ]
  },
  {
   "cell_type": "code",
   "execution_count": null,
   "id": "bba53841",
   "metadata": {},
   "outputs": [],
   "source": []
  },
  {
   "cell_type": "markdown",
   "id": "1dbb8256",
   "metadata": {},
   "source": [
    "2. You have a list of names. Create a new list which contains only the names \n",
    "with non-repeating characters. \n",
    "Sample input = [‘John’,’Peter’,’Meera’,’Mini’,’Krishna’]\n",
    "Sample output = [‘John’,Krishna]"
   ]
  },
  {
   "cell_type": "code",
   "execution_count": null,
   "id": "65fbf5ac",
   "metadata": {},
   "outputs": [],
   "source": []
  },
  {
   "cell_type": "markdown",
   "id": "a2fd0a06",
   "metadata": {},
   "source": [
    "<!-- 3. Take values of length and breadth of a rectangle from user and check if it \n",
    "is square or not -->"
   ]
  },
  {
   "cell_type": "markdown",
   "id": "d7ce72e3",
   "metadata": {},
   "source": [
    "\n",
    "Qn.3: Take values of length and breadth of a rectangle from user and check if it \n",
    "is square or not"
   ]
  },
  {
   "cell_type": "code",
   "execution_count": 3,
   "id": "48ba39d7",
   "metadata": {},
   "outputs": [
    {
     "name": "stdout",
     "output_type": "stream",
     "text": [
      "Length= 6.5\n",
      "breadth = 6.5\n",
      "The given values are sides of a square\n"
     ]
    }
   ],
   "source": [
    "length=float(input('Length= '))\n",
    "breadth=float(input('breadth = '))\n",
    "if length==breadth:\n",
    "    print('The given values are sides of a square')\n",
    "else:\n",
    "    print('The given values are sides of a rectangle')\n",
    "\n",
    "    \n"
   ]
  },
  {
   "cell_type": "code",
   "execution_count": null,
   "id": "a6c351fa",
   "metadata": {},
   "outputs": [],
   "source": []
  },
  {
   "cell_type": "markdown",
   "id": "d0719458",
   "metadata": {},
   "source": [
    "4. A student will not be allowed to sit in exam if his/her attendance is less \n",
    " than 75%. Take following input from user Number of classes held \n",
    " Number of classes attended. And print percentage of class attended Is \n",
    " student is allowed to sit in exam or not"
   ]
  },
  {
   "cell_type": "code",
   "execution_count": 4,
   "id": "295c1081",
   "metadata": {},
   "outputs": [
    {
     "name": "stdout",
     "output_type": "stream",
     "text": [
      "No: of classes held = 60\n",
      "No: of classes attended35\n",
      "58.333333333333336\n",
      "Not allowed to sit in exam\n"
     ]
    }
   ],
   "source": [
    "c=int(input('No: of classes held = '))\n",
    "attd=int(input('No: of classes attended'))\n",
    "p=(attd/c)*100\n",
    "print(p)\n",
    "\n",
    "if p>=75:\n",
    "    print('Allowed to sit in exam')\n",
    "else:\n",
    "    print('Not allowed to sit in exam')\n"
   ]
  },
  {
   "cell_type": "code",
   "execution_count": null,
   "id": "ec1e3ab6",
   "metadata": {},
   "outputs": [],
   "source": []
  },
  {
   "cell_type": "markdown",
   "id": "bf23b296",
   "metadata": {},
   "source": [
    "Qn:5. Create a list by taking length of the list and elements of the list from user.\n",
    "Then find the sum of the elements of the list. Also create a new called even \n",
    "list which contains only even numbers from first list and odd list which \n",
    "contains odd numbers from the list. "
   ]
  },
  {
   "cell_type": "code",
   "execution_count": 5,
   "id": "24ac452d",
   "metadata": {},
   "outputs": [
    {
     "name": "stdout",
     "output_type": "stream",
     "text": [
      "number of elements 8\n",
      "Enter the element of list 10\n",
      "Enter the element of list 20\n",
      "Enter the element of list 30\n",
      "Enter the element of list 11\n",
      "Enter the element of list 1\n",
      "Enter the element of list 3\n",
      "Enter the element of list 4\n",
      "Enter the element of list 5\n",
      "[10, 20, 30, 11, 1, 3, 4, 5]\n",
      "84\n",
      "List of even numbers is  [10, 20, 30, 4]\n",
      "List of odd numbers is  [11, 1, 3, 5]\n"
     ]
    }
   ],
   "source": [
    "#l1=[10,20,30,11,1,3,4,5]\n",
    "#list1=map(int,input().split(' '))\n",
    "#l1=list(list1)\n",
    "#print(l1)\n",
    "#total=sum(l1)\n",
    "#print('Sum of elements is',total)\n",
    "\n",
    "l1=[]\n",
    "n=int(input(\"number of elements \"))\n",
    "for i in range(1,n+1):\n",
    "    x=int(input('Enter the element of list '))\n",
    "    l1.append(x)\n",
    "print(l1)\n",
    "total=sum(l1)\n",
    "print(total)\n",
    "\n",
    "\n",
    "#list of even numbers\n",
    "l2=[]\n",
    "l3=[]\n",
    "for num in l1:\n",
    "    if num%2==0:\n",
    "        l2.append(num)\n",
    "for num in l1:\n",
    "    if num%2!=0:\n",
    "        l3.append(num)\n",
    "print('List of even numbers is ',l2)\n",
    "print('List of odd numbers is ',l3)"
   ]
  },
  {
   "cell_type": "code",
   "execution_count": null,
   "id": "724d7894",
   "metadata": {},
   "outputs": [],
   "source": []
  },
  {
   "cell_type": "markdown",
   "id": "9d632845",
   "metadata": {},
   "source": [
    "Qn:6 Create a sample chatbot for an ecommerce website"
   ]
  },
  {
   "cell_type": "code",
   "execution_count": 6,
   "id": "5654e210",
   "metadata": {},
   "outputs": [
    {
     "name": "stdout",
     "output_type": "stream",
     "text": [
      "Welcome to ICTAK\n",
      "Enter quit to stopkid\n",
      "Please choose another option\n",
      "Enter quit to stopkids\n",
      "Yes , we have kids clothing\n",
      "Enter quit to stopprice\n",
      "Please enter the item you want to purchase\n",
      "Enter quit to stopcod\n",
      "No, we dont have cash on delivery option. Please visit the website for more details\n",
      "Enter quit to stopquit\n",
      "See you later\n"
     ]
    }
   ],
   "source": [
    "print('Welcome to ICTAK')\n",
    "\n",
    "while True:              # means this will execute forever\n",
    "    x=input('Enter quit to stop')\n",
    "    x=x.lower()\n",
    "    if x=='quit':\n",
    "        print('See you later')\n",
    "        break\n",
    "    y=x.split()\n",
    "    if len(y)==0:\n",
    "        print('please give a valid input')\n",
    "    elif 'morning' in y:\n",
    "        print('good morning')\n",
    "    elif 'kids' in y:\n",
    "        print('Yes , we have kids clothing')\n",
    "    elif 'women' in y:\n",
    "        print('Yes, we have womens clothing')\n",
    "    elif 'price' in y:\n",
    "        print('Please enter the item you want to purchase')\n",
    "    elif 'cod' in y:\n",
    "        print('No, we dont have cash on delivery option. Please visit the website for more details')\n",
    "    elif 'customer' in y:\n",
    "        print('You will be redirected to our customer care executive')\n",
    "    else:\n",
    "        print('Please choose another option')"
   ]
  },
  {
   "cell_type": "code",
   "execution_count": null,
   "id": "01af58b1",
   "metadata": {},
   "outputs": [],
   "source": []
  },
  {
   "cell_type": "markdown",
   "id": "833be38e",
   "metadata": {},
   "source": [
    "7. Write a program to find the roots of a quadratic equation. Get the co\u0002efficients of quadratic equation ax^2+bx+c and display whether the roots \n",
    "are real and equal or real and distinct or roots are imaginary. You have to \n",
    "find the roots and display it as well. "
   ]
  },
  {
   "cell_type": "code",
   "execution_count": 7,
   "id": "c9f7dfb3",
   "metadata": {},
   "outputs": [
    {
     "name": "stdout",
     "output_type": "stream",
     "text": [
      "a= 2\n",
      "b= 5\n",
      "c= 2\n",
      "9\n",
      "(-2+0j) (-0.5+0j)\n",
      "Real and different roots\n",
      "(-2+0j) (-0.5+0j)\n"
     ]
    }
   ],
   "source": [
    "a=int(input('a= '))\n",
    "b=int(input('b= '))\n",
    "c=int(input('c= '))\n",
    "d=(b*b)-(4*a*c)\n",
    "import cmath \n",
    "#sq_rt = math.sqrt((b*b)-(4*a*c))\n",
    "root1=(-b-cmath.sqrt(d))/(2*a)\n",
    "root2=(-b+cmath.sqrt(d))/(2*a)\n",
    "print(d)\n",
    "print(root1,root2)\n",
    "if d>0:\n",
    "    print('Real and different roots')\n",
    "    print(root1,root2)\n",
    "elif d==0:\n",
    "    print('Real and same roots')\n",
    "    print(root1,root2)\n",
    "else:\n",
    "    print('Complex roots')\n",
    "    print(root1,root2)\n",
    "    \n",
    "    \n"
   ]
  },
  {
   "cell_type": "code",
   "execution_count": null,
   "id": "765dd872",
   "metadata": {},
   "outputs": [],
   "source": []
  },
  {
   "cell_type": "markdown",
   "id": "ded6de11",
   "metadata": {},
   "source": [
    "8. Given a range of first 10 numbers, write a Python program to iterate from \n",
    "start number to the end number and print the sum of the current number \n",
    "and previous number. "
   ]
  },
  {
   "cell_type": "code",
   "execution_count": 8,
   "id": "78be4dcd",
   "metadata": {},
   "outputs": [
    {
     "name": "stdout",
     "output_type": "stream",
     "text": [
      "Current Number  0 Previous Number 0 Sum 0\n",
      "Current Number  1 Previous Number 0 Sum 1\n",
      "Current Number  2 Previous Number 1 Sum 3\n",
      "Current Number  3 Previous Number 2 Sum 5\n",
      "Current Number  4 Previous Number 3 Sum 7\n",
      "Current Number  5 Previous Number 4 Sum 9\n",
      "Current Number  6 Previous Number 5 Sum 11\n",
      "Current Number  7 Previous Number 6 Sum 13\n",
      "Current Number  8 Previous Number 7 Sum 15\n",
      "Current Number  9 Previous Number 8 Sum 17\n"
     ]
    }
   ],
   "source": [
    "num = list(range(10))\n",
    "prevNum = 0\n",
    "total=0\n",
    "for i in num:\n",
    "    total = prevNum + i\n",
    "    print('Current Number ',i , 'Previous Number',prevNum , 'Sum',total)\n",
    "    prevNum=i"
   ]
  },
  {
   "cell_type": "code",
   "execution_count": null,
   "id": "03b6231a",
   "metadata": {},
   "outputs": [],
   "source": []
  },
  {
   "cell_type": "markdown",
   "id": "9088d0fa",
   "metadata": {},
   "source": [
    " Qn:9. Python program to print prime numbers in a range.Get values from the user."
   ]
  },
  {
   "cell_type": "code",
   "execution_count": 9,
   "id": "9c3c18e5",
   "metadata": {},
   "outputs": [
    {
     "name": "stdout",
     "output_type": "stream",
     "text": [
      "starting value of range = 2\n",
      "ending value of range = 25\n",
      "2 3 5 7 11 13 17 19 23 "
     ]
    }
   ],
   "source": [
    "start=int(input('starting value of range = '))\n",
    "stop=int(input('ending value of range = '))\n",
    "for val in range(start, stop):\n",
    "    if val>1:\n",
    "        for i in range(2, val):\n",
    "            if(val%i)==0:\n",
    "                break\n",
    "        else:\n",
    "            print(val,end=' ')"
   ]
  },
  {
   "cell_type": "code",
   "execution_count": null,
   "id": "2a5bac9d",
   "metadata": {},
   "outputs": [],
   "source": []
  },
  {
   "cell_type": "markdown",
   "id": "8e12c65a",
   "metadata": {},
   "source": [
    "10. Write a Python program to print Fibonacci series in a given range. Get \n",
    "the range from user and print fibonacci numbers in that range"
   ]
  },
  {
   "cell_type": "code",
   "execution_count": 10,
   "id": "84e12c8a",
   "metadata": {},
   "outputs": [
    {
     "name": "stdout",
     "output_type": "stream",
     "text": [
      "No: of terms 8\n",
      "Fibonacci sequence:\n",
      "0\n",
      "1\n",
      "1\n",
      "2\n",
      "3\n",
      "5\n",
      "8\n",
      "13\n"
     ]
    }
   ],
   "source": [
    "# Program to display the Fibonacci sequence up to n-th term\n",
    "\n",
    "nterms = int(input(\"No: of terms \"))\n",
    "\n",
    "# first two terms\n",
    "n1, n2 = 0, 1\n",
    "count = 0\n",
    "\n",
    "# check if the number of terms is valid\n",
    "if nterms <= 0:\n",
    "    print(\"Please enter a positive integer\")\n",
    "    \n",
    "# if there is only one term, return n1\n",
    "elif nterms == 1:\n",
    "    print(\"Fibonacci sequence upto\",nterms,\":\")\n",
    "    print(n1)\n",
    "    \n",
    "# generate fibonacci sequence\n",
    "else:\n",
    "    print(\"Fibonacci sequence:\")\n",
    "    while count < nterms:\n",
    "        print(n1)\n",
    "        nth = n1 + n2\n",
    "       # update values\n",
    "        n1 = n2\n",
    "        n2 = nth\n",
    "        count += 1\n",
    "        "
   ]
  },
  {
   "cell_type": "code",
   "execution_count": null,
   "id": "c615f812",
   "metadata": {},
   "outputs": [],
   "source": []
  }
 ],
 "metadata": {
  "kernelspec": {
   "display_name": "Python 3 (ipykernel)",
   "language": "python",
   "name": "python3"
  },
  "language_info": {
   "codemirror_mode": {
    "name": "ipython",
    "version": 3
   },
   "file_extension": ".py",
   "mimetype": "text/x-python",
   "name": "python",
   "nbconvert_exporter": "python",
   "pygments_lexer": "ipython3",
   "version": "3.9.13"
  }
 },
 "nbformat": 4,
 "nbformat_minor": 5
}
