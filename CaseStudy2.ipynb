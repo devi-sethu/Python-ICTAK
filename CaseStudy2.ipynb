{
 "cells": [
  {
   "cell_type": "markdown",
   "id": "72567414",
   "metadata": {},
   "source": [
    "1. Write a Python function to sum all the numbers in a list. (Create a list and\n",
    "get list elements from user)"
   ]
  },
  {
   "cell_type": "code",
   "execution_count": 2,
   "id": "59e25938",
   "metadata": {},
   "outputs": [
    {
     "name": "stdout",
     "output_type": "stream",
     "text": [
      "1 2 3 4 \n",
      "10\n"
     ]
    }
   ],
   "source": [
    "a=list(map(int,input().split()))\n",
    "\n",
    "def sumOfList(a):\n",
    "    s=0\n",
    "    for i in a:\n",
    "        s+=i\n",
    "    return s\n",
    "sumofnumbers=sum(a)\n",
    "print(sumofnumbers)"
   ]
  },
  {
   "cell_type": "markdown",
   "id": "2e0e80c8",
   "metadata": {},
   "source": [
    " 2. Write a Python function that checks whether a passed string is \n",
    "palindrome or not\n"
   ]
  },
  {
   "cell_type": "code",
   "execution_count": 23,
   "id": "62785db8",
   "metadata": {},
   "outputs": [
    {
     "name": "stdout",
     "output_type": "stream",
     "text": [
      "enter stringmalayalam\n",
      "string is palindrome\n"
     ]
    }
   ],
   "source": [
    "\n",
    "def palyndrome(str):\n",
    "    rev_s=string[::-1]\n",
    "    if string==rev_s:\n",
    "        print('string is palindrome')\n",
    "    else:\n",
    "        print('string is not palindrome')\n",
    "    \n",
    "string=input('enter string')\n",
    "palyndrome(string)\n",
    "\n"
   ]
  },
  {
   "cell_type": "markdown",
   "id": "50de1453",
   "metadata": {},
   "source": [
    "3. Write a Python recursive function to find the Fibonacci series. Get the limit \n",
    "from the user"
   ]
  },
  {
   "cell_type": "code",
   "execution_count": 28,
   "id": "3b552677",
   "metadata": {},
   "outputs": [
    {
     "name": "stdout",
     "output_type": "stream",
     "text": [
      "Fibonacci sequence:\n",
      "0\n",
      "1\n",
      "1\n",
      "2\n",
      "4\n",
      "7\n",
      "11\n",
      "16\n",
      "22\n",
      "29\n"
     ]
    }
   ],
   "source": [
    "def fibo(n):\n",
    "    if n <= 1:\n",
    "        return n\n",
    "    else:\n",
    "        return(fibo(n-1) + (n-2))\n",
    "\n",
    "nterms = 10\n",
    "\n",
    "# check if the number of terms is valid\n",
    "if nterms <= 0:\n",
    "    print(\"Plese enter a positive integer\")\n",
    "else:\n",
    "    print(\"Fibonacci sequence:\")\n",
    "    for i in range(nterms):\n",
    "        print(fibo(i))"
   ]
  },
  {
   "cell_type": "markdown",
   "id": "d17dff2b",
   "metadata": {},
   "source": [
    "4. Write a Python recursive function to print the multiplication table of \n",
    "given number"
   ]
  },
  {
   "cell_type": "code",
   "execution_count": 30,
   "id": "8d366df9",
   "metadata": {},
   "outputs": [
    {
     "name": "stdout",
     "output_type": "stream",
     "text": [
      "Enter the Number: \n",
      "5\n",
      "\n",
      "Table of 5 is:\n",
      "5 * 1 = 5\n",
      "5 * 2 = 10\n",
      "5 * 3 = 15\n",
      "5 * 4 = 20\n",
      "5 * 5 = 25\n",
      "5 * 6 = 30\n",
      "5 * 7 = 35\n",
      "5 * 8 = 40\n",
      "5 * 9 = 45\n",
      "5 * 10 = 50\n"
     ]
    }
   ],
   "source": [
    "def tab(n, i):\n",
    "    if(i>10):\n",
    "        return\n",
    "    print(n, \"*\", i, \"=\", n*i)\n",
    "    return tab(n, i+1)\n",
    "\n",
    "print(\"Enter the Number: \")\n",
    "num = int(input())\n",
    "print(\"\\nTable of\", num, \"is:\")\n",
    "tab(num, 1)"
   ]
  },
  {
   "cell_type": "markdown",
   "id": "5606bbd2",
   "metadata": {},
   "source": [
    "5. Define a function which counts vowels and consonant in a word."
   ]
  },
  {
   "cell_type": "code",
   "execution_count": 11,
   "id": "17afeae4",
   "metadata": {},
   "outputs": [
    {
     "name": "stdout",
     "output_type": "stream",
     "text": [
      "elephant\n",
      "number of vowels =  3\n",
      "number of consonants =  5\n"
     ]
    }
   ],
   "source": [
    "s=input()  #accepting a string from user\n",
    "\n",
    "def count(s):\n",
    "    # defining a function to count number of vowels and consonants\n",
    "    \n",
    "    v=['a','e','i','o','u'] #creating lists to identify vowels and consonants, v,c\n",
    "    c=['b','c','d','f','g','h','j','k','l','m','n','p','q','r','s','t','v','w','x','y','z']\n",
    "    \n",
    "    vc=cc=0\n",
    "    \n",
    "    for i in s:\n",
    "        \n",
    "        # looping through the word\n",
    "        if i in v:\n",
    "            vc+=1\n",
    "        elif i in c:\n",
    "            cc+=1\n",
    "    return(vc,cc)\n",
    "\n",
    "vowelcount,consonantcount =count(s)\n",
    "print(\"number of vowels = \",vowelcount)\n",
    "print(\"number of consonants = \",consonantcount)    "
   ]
  },
  {
   "cell_type": "markdown",
   "id": "ec5c29fe",
   "metadata": {},
   "source": [
    "6. Define a function that accepts lowercase words and returns uppercase \n",
    "words.\n"
   ]
  },
  {
   "cell_type": "code",
   "execution_count": 7,
   "id": "0b3d71d2",
   "metadata": {},
   "outputs": [
    {
     "name": "stdout",
     "output_type": "stream",
     "text": [
      "Enter the string harry potter\n"
     ]
    },
    {
     "data": {
      "text/plain": [
       "'HARRY POTTER'"
      ]
     },
     "execution_count": 7,
     "metadata": {},
     "output_type": "execute_result"
    }
   ],
   "source": [
    "def case(alphabet):\n",
    "    #string= input('Enter the string ')\n",
    "    if string==string.lower():\n",
    "        return (string.upper())\n",
    "    else:\n",
    "        return ('false entry')\n",
    "string= input('Enter the string ')\n",
    "case(string)"
   ]
  },
  {
   "cell_type": "markdown",
   "id": "b8ce6c78",
   "metadata": {},
   "source": [
    "7. Write a Python program to remove ‘None’ values from a given list using \n",
    "the lambda function.\n",
    "Given input = [12, 0, None, 23, None, -55, 234, 89, None, 0, 6, -12]\n",
    "Expected output = [12, 0, 23, -55, 234, 89, 0, 6, -12]\n"
   ]
  },
  {
   "cell_type": "code",
   "execution_count": 15,
   "id": "13139eba",
   "metadata": {},
   "outputs": [
    {
     "name": "stdout",
     "output_type": "stream",
     "text": [
      "\n",
      "Remove None value from the said list:\n",
      "[12, 0, 23, -55, 234, 89, 0, 6, -12]\n"
     ]
    }
   ],
   "source": [
    "def remove_none(nums):\n",
    "    result = filter(lambda v: v is not None, nums) # is not -- True if the operands are not identical\n",
    "    return list(result)\n",
    "\n",
    "nums = [12, 0, None, 23, None, -55, 234, 89, None, 0, 6, -12]\n",
    "\n",
    "print(\"\\nRemoving None value from the said list:\")\n",
    "print(remove_none(nums))"
   ]
  },
  {
   "cell_type": "markdown",
   "id": "c1fb0761",
   "metadata": {},
   "source": [
    "8. Write a Rectangle class in Python language, allowing you to build a \n",
    "rectangle with length and width attributes.\n",
    "a. Create a Perimeter() method to calculate the perimeter of the \n",
    "rectangle and a Area() method to calculate the area of the rectangle.\n",
    "b. Create a method display() that display the length, width, perimeter \n",
    "and area of an object created using an instantiation on rectangle \n",
    "class.\n",
    "c. Create a Parallelepiped child class inheriting from the Rectangle \n",
    "class and with a height attribute and another Volume() method to \n",
    "calculate the volume of the Parallelepiped.\n",
    "\n"
   ]
  },
  {
   "cell_type": "code",
   "execution_count": 37,
   "id": "4d318d00",
   "metadata": {},
   "outputs": [
    {
     "name": "stdout",
     "output_type": "stream",
     "text": [
      "Length of rectangle =  2\n",
      "Width of rectangle =  3\n",
      "Perimeter of rectangle =  10\n",
      "Area of rectangle =  6\n",
      "Height = 4\n"
     ]
    },
    {
     "data": {
      "text/plain": [
       "('Volume of parallelepiped is = ', 24)"
      ]
     },
     "execution_count": 37,
     "metadata": {},
     "output_type": "execute_result"
    }
   ],
   "source": [
    "# defining class rectangle\n",
    "class rectangle:\n",
    "    def __init__(self,l,b):\n",
    "        self.l=l\n",
    "        self.b=b\n",
    "        \n",
    "# defining method perimeter\n",
    "    def perimeter(self):\n",
    "        p=2*(self.l+self.b)\n",
    "        return p\n",
    "       \n",
    "        \n",
    "#defining method area        \n",
    "    def area(self):\n",
    "        a=self.l*self.b\n",
    "        return a\n",
    "\n",
    "        \n",
    "# defining method display       \n",
    "    def display(self):\n",
    "        print('Length of rectangle = ',self.l)\n",
    "        print('Width of rectangle = ',self.b)\n",
    "        print('Perimeter of rectangle = ',self.perimeter())\n",
    "        print('Area of rectangle = ',self.area())\n",
    "        \n",
    "#child class Parallelepiped        \n",
    "        \n",
    "class Parallelepiped(rectangle):\n",
    "    \n",
    "    #def __init__(self,h):\n",
    "        #self.h=h\n",
    "        \n",
    "    def Vol(self,h):\n",
    "        self.h=h\n",
    "        volume=self.l*self.b*self.h\n",
    "        return 'Volume of parallelepiped is = ',volume\n",
    "        \n",
    "        \n",
    "\n",
    "r=Parallelepiped(2,3)\n",
    "r.perimeter()\n",
    "r.area()\n",
    "r.display()\n",
    "h=int(input('Height = '))\n",
    "r.Vol(h)"
   ]
  },
  {
   "cell_type": "markdown",
   "id": "f52bec69",
   "metadata": {},
   "source": [
    "9. Create a Python class called BankAccount which represents a bank \n",
    "account, having as attributes: accountNumber (numeric type), name \n",
    "(name of the account owner as string type), balance.\n",
    "a. Create a constructor with parameters: accountNumber, name, \n",
    "balance.\n",
    "b. Create a Deposit() method which manages the deposit actions.\n",
    "c. Create a Withdrawal() method which manages withdrawals \n",
    "actions.\n",
    "d. Create an bankFees() method to apply the bank fees with a \n",
    "percentage of 5% of the balance account.\n",
    "e. Create a display() method to display account details.\n",
    "f. Give the complete code for the BankAccount class."
   ]
  },
  {
   "cell_type": "code",
   "execution_count": 40,
   "id": "b2aeb499",
   "metadata": {},
   "outputs": [
    {
     "name": "stdout",
     "output_type": "stream",
     "text": [
      "Account Number :  65654343\n",
      "Account Name :  Albert\n",
      "Account Balance :  5300\n"
     ]
    }
   ],
   "source": [
    "class BankAccount:\n",
    "    # create the constuctor with parameters: accountNumber, name and balance \n",
    "    def __init__(self,accountNumber, name, balance):\n",
    "        self.accountNumber = accountNumber\n",
    "        self.name = name\n",
    "        self.balance = balance\n",
    "        \n",
    "# create Deposit() method\n",
    "    def Deposit(self , d ):\n",
    "        self.balance = self.balance + d\n",
    "    \n",
    "# create Withdrawal method\n",
    "    def Withdrawal(self , w):\n",
    "        if(self.balance < w):\n",
    "            print(\"Insufficient balance !\")\n",
    "        else:\n",
    "            self.balance = self.balance - w\n",
    "            \n",
    "# create bankFees() method\n",
    "    def bankFees(self):\n",
    "        self.balance = (95/100)*self.balance\n",
    "        \n",
    "# create display() method\n",
    "    def display(self):\n",
    "        print(\"Account Number : \" , self.accountNumber)\n",
    "        print(\"Account Name : \" , self.name)\n",
    "        print(\"Account Balance : \" , self.balance)\n",
    "        \n",
    "# testing the code :\n",
    "person1 = BankAccount(65654343, \"Albert\" , 5000)\n",
    "\n",
    "# creating deposit Test\n",
    "person1.Deposit(500)\n",
    "\n",
    "# create withdrawal test\n",
    "person1.Withdrawal(200)\n",
    "\n",
    "# display account informations\n",
    "person1.display()"
   ]
  },
  {
   "cell_type": "code",
   "execution_count": null,
   "id": "26e46d00",
   "metadata": {},
   "outputs": [],
   "source": []
  }
 ],
 "metadata": {
  "kernelspec": {
   "display_name": "Python 3 (ipykernel)",
   "language": "python",
   "name": "python3"
  },
  "language_info": {
   "codemirror_mode": {
    "name": "ipython",
    "version": 3
   },
   "file_extension": ".py",
   "mimetype": "text/x-python",
   "name": "python",
   "nbconvert_exporter": "python",
   "pygments_lexer": "ipython3",
   "version": "3.9.13"
  }
 },
 "nbformat": 4,
 "nbformat_minor": 5
}
